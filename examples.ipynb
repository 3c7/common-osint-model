{
 "cells": [
  {
   "cell_type": "markdown",
   "metadata": {
    "pycharm": {
     "name": "#%% md\n"
    }
   },
   "source": [
    "# Common OSINT Model Examples\n",
    "This notebook shows how to use the common model. In order to do this \"live\", you need access to BinaryEdge, Censys\n",
    "and/or Shodan. You can also use data in the [test_data](test_data) directory.\n",
    "\n",
    "**Note:** The modules used in this notebook are not installed by default when installing common-osint-model as they are\n",
    "no direct project requirements. In order to run all the examples code, you need to (pip) install:\n",
    "  - shodan\n",
    "  - pybinaryedge\n",
    "  - censys"
   ]
  },
  {
   "cell_type": "markdown",
   "metadata": {
    "pycharm": {
     "name": "#%% md\n"
    }
   },
   "source": [
    "# Initialize API clients\n",
    "The following cells set-up the api clients in order to grab live data from BinaryEdge, Censys and Shodan. **This is\n",
    "currently not implemented and work in progress. Please skip the following cell for now.**"
   ]
  },
  {
   "cell_type": "code",
   "execution_count": null,
   "metadata": {
    "pycharm": {
     "name": "#%%\n"
    }
   },
   "outputs": [],
   "source": [
    "shodan_key = input(\"Shodan API-Key (empty to skip downloading data from Shodan)\")\n",
    "be_key = input(\"BinaryEdge API-Key\")\n",
    "censys_uid = input(\"Censys UID\")\n",
    "censys_secret = input(\"Censys Secret\")\n",
    "clients = {}\n",
    "if shodan_key and len(shodan_key) > 0:\n",
    "    import shodan\n",
    "    clients[\"shodan\"] = shodan.Shodan(shodan_key)\n",
    "\n",
    "if be_key and len(be_key) > 0:\n",
    "    import pybinaryedge\n",
    "    clients[\"binaryedge\"] = pybinaryedge.BinaryEdge(be_key)\n",
    "\n",
    "if censys_uid and censys_secret and len(censys_uid) > 0 and len(censys_secret) > 0:\n",
    "    from censys.search.v2 import CensysHosts\n",
    "    clients[\"censys\"] = CensysHosts(censys_uid, censys_secret)\n",
    "\n",
    "print(f\"Initialized {len(clients)} API(s).\")"
   ]
  },
  {
   "cell_type": "markdown",
   "metadata": {
    "pycharm": {
     "name": "#%% md\n"
    }
   },
   "source": [
    "# Play around with test data"
   ]
  },
  {
   "cell_type": "code",
   "execution_count": 1,
   "metadata": {
    "pycharm": {
     "name": "#%%\n"
    }
   },
   "outputs": [
    {
     "name": "stderr",
     "output_type": "stream",
     "text": [
      "INFO:SSHComponentKey:Censys data does not contain the key as raw data. The public key can be constructed with given data, however, currently this is only supported for RSA keys.\n",
      "INFO:TLSComponentCertificate:Censys does not provide raw certificate data, to hashes must be taken from the data and cannot be calculated.\n"
     ]
    },
    {
     "name": "stdout",
     "output_type": "stream",
     "text": [
      "=== FEATURES ===\n",
      "\n",
      "Access attributes directly, no need to use dictionaries:\n",
      "IP: 140.82.121.4\n",
      "Service on port 443: HTTP/1.1 301 Moved Permanently\\r\\nContent-Length: 0\\r\\nLocation: https://github.com/\\r\\nconnection: close\\r\\n\\r\\n\n",
      "\n",
      "Automatic calculation of additional hashes:\n",
      "Other content hashes for Shodan: e3b0c44298fc1c149afbf4c8996fb92427ae41e4649b934ca495991b7852b855\n",
      "Other SSH fingerprints for Censys data (e.g. Murmur): -388505952\n",
      "\n",
      "Extracting domains returned by the data sources as their own objects. This way they can be extended with, e.g., passive dns data\n",
      "Extracted Domains (Shodan): \n",
      "  - Shodan: github.com (type: domain)\n",
      "  - Shodan: lb-140-82-121-4-fra.github.com (type: rdns)\n",
      "  - Shodan: www.github.com (type: common_name)\n",
      "\n",
      "Extracted Domains (Censys): \n",
      "  - Censys: www.github.com (type: common_name)\n",
      "  - Censys: github.com (type: common_name)\n",
      "\n",
      "Easy export of data into json:\n",
      "{\n",
      "  \"443.port\": 443,\n",
      "  \"443.banner\": \"HTTP/1.1 301 Moved Permanently\\r\\nContent-Length: 0\\r\\nLocation: https://github.com/\\r\\n\\r\\n\",\n",
      "  \"443.md5\": \"d402a6212741f3690b4fa1e46d9bd8b6\",\n",
      "  \"443.sha1\": \"a24eb4ba0332776d38050a7b41d0366742dbf262\",\n",
      "  \"443.sha256\": \"5fbe0315395986d131e4948888987319e88e3e1da6c5460e8a0bf8b7a1e639f0\",\n",
      "  \"443.murmur\": \"-1655207803\",\n",
      "  \"443.first_seen\": \"2021-08-23T19:50:41.849633\",\n",
      "  \"443.last_seen\": \"2021-08-23T19:50:41.849636\",\n",
      "  \"443.timestamp\": \"2021-08-16T20:42:40.325940\",\n",
      "  \"443.http.headers.Content-Length\": \"0\",\n",
      "  \"443.http.headers.Location\": \"https://github.com/\",\n",
      "  \"443.http.content.raw\": \"\",\n",
      "  \"443.http.content.length\": 0,\n",
      "  \"443.http.content.md5\": \"d41d8cd98f00b204e9800998ecf8427e\",\n",
      "  \"443.http.content.sha1\": \"da39a3ee5e6b4b0d3255bfef95601890afd80709\",\n",
      "  \"443.http.content.sha256\": \"e3b0c44298fc1c149afbf4c8996fb92427ae41e4649b934ca495991b7852b855\",\n",
      "  \"443.http.content.murmur\": \"0\",\n",
      "  \"443.tls.certificate.issuer.dn\": \"C=US, O=DigiCert, Inc., CN=DigiCert High Assurance TLS Hybrid ECC SHA256 2020 CA1\",\n",
      "  \"443.tls.certificate.issuer.country\": \"US\",\n",
      "  \"443.tls.certificate.issuer.organization\": \"DigiCert, Inc.\",\n",
      "  \"443.tls.certificate.issuer.common_name\": \"DigiCert High Assurance TLS Hybrid ECC SHA256 2020 CA1\",\n",
      "  \"443.tls.certificate.subject.dn\": \"C=US, ST=California, L=San Francisco, O=GitHub, Inc., CN=github.com\",\n",
      "  \"443.tls.certificate.subject.country\": \"US\",\n",
      "  \"443.tls.certificate.subject.state\": \"California\",\n",
      "  \"443.tls.certificate.subject.locality\": \"San Francisco\",\n",
      "  \"443.tls.certificate.subject.organization\": \"GitHub, Inc.\",\n",
      "  \"443.tls.certificate.subject.common_name\": \"github.com\",\n",
      "  \"443.tls.certificate.issued\": \"2021-03-25T00:00:00\",\n",
      "  \"443.tls.certificate.expires\": \"2022-03-30T23:59:59\",\n",
      "  \"443.tls.certificate.expired\": false,\n",
      "  \"443.tls.certificate.alternative_names\": [\n",
      "    \"www.github.com\",\n",
      "    \"github.com\"\n",
      "  ],\n",
      "  \"443.tls.certificate.pem\": \"-----BEGIN CERTIFICATE-----\\nMIIFBjCCBK2gAwIBAgIQDovzdw2S0Zbwu2H5PEFmvjAKBggqhkjOPQQDAjBnMQsw\\nCQYDVQQGEwJVUzEXMBUGA1UEChMORGlnaUNlcnQsIEluYy4xPzA9BgNVBAMTNkRp\\nZ2lDZXJ0IEhpZ2ggQXNzdXJhbmNlIFRMUyBIeWJyaWQgRUNDIFNIQTI1NiAyMDIw\\nIENBMTAeFw0yMTAzMjUwMDAwMDBaFw0yMjAzMzAyMzU5NTlaMGYxCzAJBgNVBAYT\\nAlVTMRMwEQYDVQQIEwpDYWxpZm9ybmlhMRYwFAYDVQQHEw1TYW4gRnJhbmNpc2Nv\\nMRUwEwYDVQQKEwxHaXRIdWIsIEluYy4xEzARBgNVBAMTCmdpdGh1Yi5jb20wWTAT\\nBgcqhkjOPQIBBggqhkjOPQMBBwNCAASt9vd1sdNJVApdEHG93CUGSyIcoiNOn6H+\\nudCMvTm8DCPHz5GmkFrYRasDE77BI3q5xMidR/aW4Ll2a1A2ZvcNo4IDOjCCAzYw\\nHwYDVR0jBBgwFoAUUGGmoNI1xBEqII0fD6xC8M0pz0swHQYDVR0OBBYEFCexfp+7\\nJplQ2PPDU1v+MRawux5yMCUGA1UdEQQeMByCCmdpdGh1Yi5jb22CDnd3dy5naXRo\\ndWIuY29tMA4GA1UdDwEB/wQEAwIHgDAdBgNVHSUEFjAUBggrBgEFBQcDAQYIKwYB\\nBQUHAwIwgbEGA1UdHwSBqTCBpjBRoE+gTYZLaHR0cDovL2NybDMuZGlnaWNlcnQu\\nY29tL0RpZ2lDZXJ0SGlnaEFzc3VyYW5jZVRMU0h5YnJpZEVDQ1NIQTI1NjIwMjBD\\nQTEuY3JsMFGgT6BNhktodHRwOi8vY3JsNC5kaWdpY2VydC5jb20vRGlnaUNlcnRI\\naWdoQXNzdXJhbmNlVExTSHlicmlkRUNDU0hBMjU2MjAyMENBMS5jcmwwPgYDVR0g\\nBDcwNTAzBgZngQwBAgIwKTAnBggrBgEFBQcCARYbaHR0cDovL3d3dy5kaWdpY2Vy\\ndC5jb20vQ1BTMIGSBggrBgEFBQcBAQSBhTCBgjAkBggrBgEFBQcwAYYYaHR0cDov\\nL29jc3AuZGlnaWNlcnQuY29tMFoGCCsGAQUFBzAChk5odHRwOi8vY2FjZXJ0cy5k\\naWdpY2VydC5jb20vRGlnaUNlcnRIaWdoQXNzdXJhbmNlVExTSHlicmlkRUNDU0hB\\nMjU2MjAyMENBMS5jcnQwDAYDVR0TAQH/BAIwADCCAQUGCisGAQQB1nkCBAIEgfYE\\ngfMA8QB2ACl5vvCeOTkh8FZzn2Old+W+V32cYAr4+U1dJlwlXceEAAABeGq/vRoA\\nAAQDAEcwRQIhAJ7miER//DRFnDJNn6uUhgau3WMt4vVfY5dGigulOdjXAiBIVCfR\\nxjK1v4F31+sVaKzyyO7JAa0fzDQM7skQckSYWQB3ACJFRQdZVSRWlj+hL/H3bYbg\\nIyZjrcBLf13Gg1xu4g8CAAABeGq/vTkAAAQDAEgwRgIhAJgAEkoJQRivBlwo7x67\\n3oVsf1ip096WshZqmRCuL/JpAiEA3cX4rb3waLDLq4C48NSoUmcw56PwO/m2uwnQ\\nprb+yh0wCgYIKoZIzj0EAwIDRwAwRAIgK+Kv7G+/KkWkNZg3PcQFp866Z7G6soxo\\na4etSZ+SRlYCIBSiXS20Wc+yjD111nPzvQUCfsP4+DKZ3K+2GKsERD6d\\n-----END CERTIFICATE-----\\n\",\n",
      "  \"443.tls.certificate.md5\": \"a07ee2076a6e392e1e96481e99ba094b\",\n",
      "  \"443.tls.certificate.sha1\": \"8463b3a92912ccfd1d314705989bec139937d0d7\",\n",
      "  \"443.tls.certificate.sha256\": \"0ae384bfd4dde9d13e50c5857c05a442c93f8e01445ee4b34540d22bd1e37f1b\",\n",
      "  \"443.source\": \"shodan\",\n",
      "  \"80.port\": 80,\n",
      "  \"80.banner\": \"HTTP/1.1 301 Moved Permanently\\r\\nContent-Length: 0\\r\\nLocation: https://140.82.121.4/\\r\\n\\r\\n\",\n",
      "  \"80.md5\": \"86c9c13165fff2c41db667dd1f6500db\",\n",
      "  \"80.sha1\": \"8ecee0314c63c092d449b0d37d00f0ff62448dd1\",\n",
      "  \"80.sha256\": \"715fd6cec44f12bb5e59f57bf9a1691708a5a2d2ef253399358ac3ff88f47781\",\n",
      "  \"80.murmur\": \"1256792822\",\n",
      "  \"80.first_seen\": \"2021-08-23T19:50:41.849633\",\n",
      "  \"80.last_seen\": \"2021-08-23T19:50:41.849636\",\n",
      "  \"80.timestamp\": \"2021-08-16T20:42:38.012570\",\n",
      "  \"80.http.headers.Content-Length\": \"0\",\n",
      "  \"80.http.headers.Location\": \"https://140.82.121.4/\",\n",
      "  \"80.http.content.raw\": \"\",\n",
      "  \"80.http.content.length\": 0,\n",
      "  \"80.http.content.md5\": \"d41d8cd98f00b204e9800998ecf8427e\",\n",
      "  \"80.http.content.sha1\": \"da39a3ee5e6b4b0d3255bfef95601890afd80709\",\n",
      "  \"80.http.content.sha256\": \"e3b0c44298fc1c149afbf4c8996fb92427ae41e4649b934ca495991b7852b855\",\n",
      "  \"80.http.content.murmur\": \"0\",\n",
      "  \"80.source\": \"shodan\",\n",
      "  \"9418.port\": 9418,\n",
      "  \"9418.banner\": \"0020ERR \\n  Repository not found.\",\n",
      "  \"9418.md5\": \"fc79d10176a28462bc071909fb99d59e\",\n",
      "  \"9418.sha1\": \"0df752dd6b3d3a461f30691ff89ee67ef3dd21b1\",\n",
      "  \"9418.sha256\": \"5f355dafa7999d06265bb17e949b76eab283e9966ef8e27908c4e1058a891121\",\n",
      "  \"9418.murmur\": \"-1636861384\",\n",
      "  \"9418.first_seen\": \"2021-08-23T19:50:41.849633\",\n",
      "  \"9418.last_seen\": \"2021-08-23T19:50:41.849636\",\n",
      "  \"9418.timestamp\": \"2021-08-12T02:10:13.136596\",\n",
      "  \"9418.source\": \"shodan\",\n",
      "  \"22.port\": 22,\n",
      "  \"22.banner\": \"SSH-2.0-babeld-968490c5\\nKey type: ssh-rsa\\nKey: AAAAB3NzaC1yc2EAAAABIwAAAQEAq2A7hRGmdnm9tUDbO9IDSwBK6TbQa+PXYPCPy6rbTrTtw7PH\\nkccKrpp0yVhp5HdEIcKr6pLlVDBfOLX9QUsyCOV0wzfjIJNlGEYsdlLJizHhbn2mUjvSAHQqZETY\\nP81eFzLQNnPHt4EVVUh7VfDESU84KezmD5QlWpXLmvU31/yMf+Se8xhHTvKSCZIFImWwoG6mbUoW\\nf9nzpIoaSjB+weqqUUmpaaasXVal72J+UX2B+2RPW3RcT0eOzQgqlJL3RKrTJvdsjE3JEAvGq3lG\\nHSZXy28G3skua2SmVi/w4yCE6gbODqnTWlg7+wC604ydGXA8VJiS5ap43JXiUFFAaQ==\\nFingerprint: 16:27:ac:a5:76:28:2d:36:63:1b:56:4d:eb:df:a6:48\\n\\nKex Algorithms:\\n\\tcurve25519-sha256\\n\\tcurve25519-sha256@libssh.org\\n\\tecdh-sha2-nistp256\\n\\tecdh-sha2-nistp384\\n\\tecdh-sha2-nistp521\\n\\tdiffie-hellman-group-exchange-sha256\\n\\nServer Host Key Algorithms:\\n\\trsa-sha2-512\\n\\trsa-sha2-256\\n\\tssh-rsa\\n\\tssh-dss\\n\\nEncryption Algorithms:\\n\\tchacha20-poly1305@openssh.com\\n\\taes256-gcm@openssh.com\\n\\taes128-gcm@openssh.com\\n\\taes256-ctr\\n\\taes192-ctr\\n\\taes128-ctr\\n\\taes256-cbc\\n\\taes192-cbc\\n\\taes128-cbc\\n\\nMAC Algorithms:\\n\\thmac-sha2-512-etm@openssh.com\\n\\thmac-sha2-256-etm@openssh.com\\n\\thmac-sha2-512\\n\\thmac-sha2-256\\n\\thmac-sha1-etm@openssh.com\\n\\thmac-sha1\\n\\nCompression Algorithms:\\n\\tnone\\n\\n\",\n",
      "  \"22.md5\": \"d652c84a47553c66047cf67e51f1345a\",\n",
      "  \"22.sha1\": \"679cc04ce70413f639351328bb2f0a70545d0cb6\",\n",
      "  \"22.sha256\": \"2431ffe5d8acbb77b6db91ee84f75baa0422d56947e0b85331dde2560e5454d5\",\n",
      "  \"22.murmur\": \"1023136053\",\n",
      "  \"22.first_seen\": \"2021-08-23T19:50:41.849633\",\n",
      "  \"22.last_seen\": \"2021-08-23T19:50:41.849636\",\n",
      "  \"22.timestamp\": \"2021-08-03T21:10:29.568093\",\n",
      "  \"22.ssh.algorithms.encryption\": [\n",
      "    \"chacha20-poly1305@openssh.com\",\n",
      "    \"aes256-gcm@openssh.com\",\n",
      "    \"aes128-gcm@openssh.com\",\n",
      "    \"aes256-ctr\",\n",
      "    \"aes192-ctr\",\n",
      "    \"aes128-ctr\",\n",
      "    \"aes256-cbc\",\n",
      "    \"aes192-cbc\",\n",
      "    \"aes128-cbc\"\n",
      "  ],\n",
      "  \"22.ssh.algorithms.key_exchange\": [\n",
      "    \"curve25519-sha256\",\n",
      "    \"curve25519-sha256@libssh.org\",\n",
      "    \"ecdh-sha2-nistp256\",\n",
      "    \"ecdh-sha2-nistp384\",\n",
      "    \"ecdh-sha2-nistp521\",\n",
      "    \"diffie-hellman-group-exchange-sha256\"\n",
      "  ],\n",
      "  \"22.ssh.algorithms.mac\": [\n",
      "    \"hmac-sha2-512-etm@openssh.com\",\n",
      "    \"hmac-sha2-256-etm@openssh.com\",\n",
      "    \"hmac-sha2-512\",\n",
      "    \"hmac-sha2-256\",\n",
      "    \"hmac-sha1-etm@openssh.com\",\n",
      "    \"hmac-sha1\"\n",
      "  ],\n",
      "  \"22.ssh.algorithms.key_algorithms\": [\n",
      "    \"rsa-sha2-512\",\n",
      "    \"rsa-sha2-256\",\n",
      "    \"ssh-rsa\",\n",
      "    \"ssh-dss\"\n",
      "  ],\n",
      "  \"22.ssh.algorithms.compression\": [\n",
      "    \"none\"\n",
      "  ],\n",
      "  \"22.ssh.key.raw\": \"AAAAB3NzaC1yc2EAAAABIwAAAQEAq2A7hRGmdnm9tUDbO9IDSwBK6TbQa+PXYPCPy6rbTrTtw7PH\\nkccKrpp0yVhp5HdEIcKr6pLlVDBfOLX9QUsyCOV0wzfjIJNlGEYsdlLJizHhbn2mUjvSAHQqZETY\\nP81eFzLQNnPHt4EVVUh7VfDESU84KezmD5QlWpXLmvU31/yMf+Se8xhHTvKSCZIFImWwoG6mbUoW\\nf9nzpIoaSjB+weqqUUmpaaasXVal72J+UX2B+2RPW3RcT0eOzQgqlJL3RKrTJvdsjE3JEAvGq3lG\\nHSZXy28G3skua2SmVi/w4yCE6gbODqnTWlg7+wC604ydGXA8VJiS5ap43JXiUFFAaQ==\\n\",\n",
      "  \"22.ssh.key.type\": \"ssh-rsa\",\n",
      "  \"22.ssh.key.md5\": \"1627aca576282d36631b564debdfa648\",\n",
      "  \"22.ssh.key.sha1\": \"bf6b6825d2977c511a475bbefb88aad54a92ac73\",\n",
      "  \"22.ssh.key.sha256\": \"9d385b83a9175292561a5ec4d4818e0aca51a264f17420112ef88ac3a139498f\",\n",
      "  \"22.ssh.key.murmur\": \"-388505952\",\n",
      "  \"22.source\": \"shodan\"\n",
      "}\n"
     ]
    }
   ],
   "source": [
    "import json\n",
    "from common_osint_model import Host\n",
    "binaryedge_host = Host.from_binaryedge(json.loads(open(\"test_data/140.82.121.4_binaryedge.json\").read()))\n",
    "shodan_host = Host.from_shodan(json.loads(open(\"test_data/140.82.121.4_shodan.json\").read()))\n",
    "censys_host = Host.from_censys(json.loads(open(\"test_data/140.82.121.4_censys_v2.json\").read()))\n",
    "\n",
    "print(\"=== FEATURES ===\\n\")\n",
    "print(\"Access attributes directly, no need to use dictionaries:\")\n",
    "print(f\"IP: {binaryedge_host.ip}\")\n",
    "print(f\"Service on port {binaryedge_host.services[0].port}: {binaryedge_host.services[0].banner}\\n\")\n",
    "\n",
    "print(f\"Automatic calculation of additional hashes:\")\n",
    "print(f\"Other content hashes for Shodan: {shodan_host.services[0].http.content.sha256}\")\n",
    "print(f\"Other SSH fingerprints for Censys data (e.g. Murmur): {censys_host.services[0].ssh.key.murmur}\\n\")\n",
    "\n",
    "print(\"Extracting domains returned by the data sources as their own objects. This way they can be extended with, e.g., \"\n",
    "      \"passive dns data\")\n",
    "print(f\"Extracted Domains (Shodan): \")\n",
    "for d in shodan_host.domains:\n",
    "    print(f\"  - Shodan: {d.domain} (type: {d.type})\")\n",
    "print(\"\\nExtracted Domains (Censys): \")\n",
    "for d in censys_host.domains:\n",
    "    print(f\"  - Censys: {d.domain} (type: {d.type})\")\n",
    "\n",
    "print(\"\\nEasy export of data into json:\")\n",
    "print(shodan_host.flattened_json())"
   ]
  }
 ],
 "metadata": {
  "kernelspec": {
   "display_name": "Python 3 (ipykernel)",
   "language": "python",
   "name": "python3"
  },
  "language_info": {
   "codemirror_mode": {
    "name": "ipython",
    "version": 3
   },
   "file_extension": ".py",
   "mimetype": "text/x-python",
   "name": "python",
   "nbconvert_exporter": "python",
   "pygments_lexer": "ipython3",
   "version": "3.9.5"
  }
 },
 "nbformat": 4,
 "nbformat_minor": 1
}
