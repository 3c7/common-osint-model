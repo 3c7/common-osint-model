{
 "cells": [
  {
   "cell_type": "markdown",
   "metadata": {
    "pycharm": {
     "name": "#%% md\n"
    }
   },
   "source": [
    "# Common OSINT Model Examples\n",
    "This notebook shows how to use the common model. In order to do this \"live\", you need access to BinaryEdge, Censys\n",
    "and/or Shodan. You can also use data in the [test_data](test_data) directory.\n",
    "\n",
    "**Note:** The modules used in this notebook are not installed by default when installing common-osint-model as they are\n",
    "no direct project requirements. In order to run all the examples code, you need to (pip) install:\n",
    "  - shodan\n",
    "  - pybinaryedge\n",
    "  - censys\n",
    "\n",
    "And also, if you don't have Jupyter Notebooks installed, you need to install the module `jupyterlab`.\n",
    "\n",
    "# Demo with preloaded data files\n",
    "This section uses data files given in the `test_data` directory and converts the host into common model objects in\n",
    "order to show some of the features.\n",
    "\n",
    "The following snippet initializes the host objects with data originally loaded from the specific APIs and saved as JSON\n",
    "files."
   ]
  },
  {
   "cell_type": "code",
   "execution_count": 4,
   "outputs": [
    {
     "name": "stderr",
     "output_type": "stream",
     "text": [
      "INFO:SSHComponentKey:Censys data does not contain the key as raw data. The public key can be constructed with given data, however, currently this is only supported for RSA keys.\n",
      "INFO:TLSComponentCertificate:Censys does not provide raw certificate data, to hashes must be taken from the data and cannot be calculated.\n"
     ]
    }
   ],
   "source": [
    "import json\n",
    "from common_osint_model import Host\n",
    "binaryedge_host = Host.from_binaryedge(json.loads(open(\"test_data/140.82.121.4_binaryedge.json\").read()))\n",
    "shodan_host = Host.from_shodan(json.loads(open(\"test_data/140.82.121.4_shodan.json\").read()))\n",
    "censys_host = Host.from_censys(json.loads(open(\"test_data/140.82.121.4_censys_v2.json\").read()))"
   ],
   "metadata": {
    "collapsed": false,
    "pycharm": {
     "name": "#%%\n"
    }
   }
  },
  {
   "cell_type": "markdown",
   "source": [
    "Generally, available services are stored as `Service` objects in a list under the service attribute. In order to use the\n",
    "model similarly to the pre v4.0 model, a dict `service_dict` is available which lists the services according to their\n",
    "ports.\n",
    "\n",
    "The following snippet prints the listening ports of the host according to the data given by the various sources. After\n",
    "that, we loop over all available services and print available HTTP headers and TLS certificate common names."
   ],
   "metadata": {
    "collapsed": false,
    "pycharm": {
     "name": "#%% md\n"
    }
   }
  },
  {
   "cell_type": "code",
   "execution_count": 2,
   "outputs": [
    {
     "name": "stdout",
     "output_type": "stream",
     "text": [
      "Listening ports for 140.82.121.4 according to the various data sources:\n",
      "\tBinaryEdge: [443, 22, 80]\n",
      "\tCensys: [22, 80, 443]\n",
      "\tShodan: [443, 80, 9418, 22]\n",
      "\n",
      "\n",
      "HTTP Headers and TLS certificate common names available per service and data source:\n",
      "\tBinaryEdge:\n",
      "\tPort 443 HTTP headers: {'permissions-policy': 'interest-cohort=()', 'x-frame-options': 'deny', 'server': 'GitHub.com', 'vary': 'X-PJAX, Accept-Language, Accept-Encoding, Accept, X-Requested-With', 'content-type': 'text/html; charset=utf-8', 'strict-transport-security': 'max-age=31536000; includeSubdomains; preload', 'date': 'Sat, 07 Aug 2021 12:57:29 GMT', 'x-content-type-options': 'nosniff', 'referrer-policy': 'origin-when-cross-origin, strict-origin-when-cross-origin', 'expect-ct': 'max-age=2592000, report-uri=\"https://api.github.com/_private/browser/errors\"', 'content-security-policy': \"default-src 'none'; base-uri 'self'; block-all-mixed-content; connect-src 'self' uploads.github.com www.githubstatus.com collector.githubapp.com api.github.com github-cloud.s3.amazonaws.com github-production-repository-file-5c1aeb.s3.amazonaws.com github-production-upload-manifest-file-7fdce7.s3.amazonaws.com github-production-user-asset-6210df.s3.amazonaws.com cdn.optimizely.com logx.optimizely.com/v1/events translator.github.com wss://alive.github.com github.githubassets.com; font-src github.githubassets.com; form-action 'self' github.com gist.github.com; frame-ancestors 'none'; frame-src render.githubusercontent.com render-temp.githubusercontent.com viewscreen.githubusercontent.com; img-src 'self' data: github.githubassets.com identicons.github.com collector.githubapp.com github-cloud.s3.amazonaws.com secured-user-images.githubusercontent.com/ *.githubusercontent.com customer-stories-feed.github.com spotlights-feed.github.com; manifest-src 'self'; media-src github.githubassets.com; script-src github.githubassets.com; style-src 'unsafe-inline' github.githubassets.com; worker-src github.com/socket-worker-3f088aa2.js gist.github.com/socket-worker-3f088aa2.js\", 'transfer-encoding': 'chunked', 'set-cookie': '_gh_sess=VvYcyVcXccY%2FqoBhuCBoFhcLFhF5QPhoMUbH5GiXoAQlQhqUZDjU6T4gWpgWw4xUq6QXP09dEO5Q7EHxlHVBVydZLW5wyaaCAKAwrtc94AZo1lqeJyOVG0rR5X84FnQKx6WoooQs9GWXA2%2FGwgbHoi1kFSfcQp4QnhfsN34tD0bMAvAApTETTMLZIvllChNjUwayytELql7TaOs%2FuqnIei81jXO%2BXA%2BWpsQWZ2A0xzs9cEazAB%2FvXDf56o8WJe5vwPFmndt83FzIMwhCTRfnRA%3D%3D--hnAIRP7FhXBQYeiZ--6ExNelaXXSls8MR1yLjt9A%3D%3D; Path=/; HttpOnly; Secure; SameSite=Lax, _octo=GH1.1.2109577224.1628341056; Path=/; Domain=github.com; Expires=Sun, 07 Aug 2022 12:57:36 GMT; Secure; SameSite=Lax, logged_in=no; Path=/; Domain=github.com; Expires=Sun, 07 Aug 2022 12:57:36 GMT; HttpOnly; Secure; SameSite=Lax', 'x-github-request-id': '90EE:6D59:1CE2BA5:2C2F53C:610E8340', 'content-language': 'en-US', 'accept-ranges': 'bytes', 'x-xss-protection': '0', 'cache-control': 'max-age=0, private, must-revalidate', 'etag': 'W/\"b083454aeb520fefc5166333ca1f1b5a\"', 'content-encoding': 'gzip'}\n",
      "\tPort 443 TLS certificate common name: github.com\n",
      "\tPort 80 HTTP headers: {'vary': 'X-PJAX, Accept-Language, Accept-Encoding, Accept, X-Requested-With', 'referrer-policy': 'origin-when-cross-origin, strict-origin-when-cross-origin', 'server': 'GitHub.com', 'transfer-encoding': 'chunked', 'expect-ct': 'max-age=2592000, report-uri=\"https://api.github.com/_private/browser/errors\"', 'x-content-type-options': 'nosniff', 'content-type': 'text/html; charset=utf-8', 'date': 'Sat, 24 Jul 2021 18:21:18 GMT', 'strict-transport-security': 'max-age=31536000; includeSubdomains; preload', 'content-security-policy': \"default-src 'none'; base-uri 'self'; block-all-mixed-content; connect-src 'self' uploads.github.com www.githubstatus.com collector.githubapp.com api.github.com github-cloud.s3.amazonaws.com github-production-repository-file-5c1aeb.s3.amazonaws.com github-production-upload-manifest-file-7fdce7.s3.amazonaws.com github-production-user-asset-6210df.s3.amazonaws.com cdn.optimizely.com logx.optimizely.com/v1/events translator.github.com wss://alive.github.com github.githubassets.com; font-src github.githubassets.com; form-action 'self' github.com gist.github.com; frame-ancestors 'none'; frame-src render.githubusercontent.com render-temp.githubusercontent.com viewscreen.githubusercontent.com; img-src 'self' data: github.githubassets.com identicons.github.com collector.githubapp.com github-cloud.s3.amazonaws.com secured-user-images.githubusercontent.com/ *.githubusercontent.com customer-stories-feed.github.com spotlights-feed.github.com; manifest-src 'self'; media-src github.githubassets.com; script-src github.githubassets.com; style-src 'unsafe-inline' github.githubassets.com; worker-src github.com/socket-worker-3f088aa2.js gist.github.com/socket-worker-3f088aa2.js\", 'set-cookie': '_gh_sess=t%2BC3SAh%2FpbnOI1IYp20fYxyQ4iBQ3J2cHU2be%2BE5Lbv8zrAITi5JsOfvBMtNgmv4Zu7NGVTBaJYMuXYrB1iteCsI07ofwKkHahNF%2BzZXwuCpwGfuqGH3ePeY%2FnM72eKZBRA9SbjfEBQu9ggAFnVONBwFxgFfjCP9P7EUiPIF47lgj3hGcWQ62XDcjL52RqSdv4wmbCogQxAfXXmm%2B5A6AgBO1c9H%2B6pfWZm6ZYX8B5OK%2FWiJ9qqOsLQ2SEvW2ewQoPaUduZ3nVm2HOro7J7eRw%3D%3D--7QwLlqwv1Ss63GiQ--9KwnjrCZ5hXGWxSToT0xtA%3D%3D; Path=/; HttpOnly; Secure; SameSite=Lax, _octo=GH1.1.358656267.1627150879; Path=/; Domain=github.com; Expires=Sun, 24 Jul 2022 18:21:19 GMT; Secure; SameSite=Lax, logged_in=no; Path=/; Domain=github.com; Expires=Sun, 24 Jul 2022 18:21:19 GMT; HttpOnly; Secure; SameSite=Lax', 'x-frame-options': 'deny', 'x-github-request-id': '85D2:1F3C:A7B370:18C5421:60FC5A1F', 'permissions-policy': 'interest-cohort=()', 'etag': 'W/\"070a431d654a2067c43c79306bf68264\"', 'cache-control': 'max-age=0, private, must-revalidate', 'x-xss-protection': '0', 'accept-ranges': 'bytes', 'content-encoding': 'gzip'}\n",
      "\n",
      "\tCensys:\n",
      "\tPort 80 HTTP headers: {'Content-Length': '0', 'Location': 'https://140.82.121.4/'}\n",
      "\tPort 443 HTTP headers: {'Content-Length': '0', 'Location': 'https://github.com/'}\n",
      "\tPort 443 TLS certificate common name: github.com\n",
      "\n",
      "\tShodan:\n",
      "\tPort 443 HTTP headers: {'Content-Length': '0', 'Location': 'https://github.com/'}\n",
      "\tPort 443 TLS certificate common name: github.com\n",
      "\tPort 80 HTTP headers: {'Content-Length': '0', 'Location': 'https://140.82.121.4/'}\n"
     ]
    }
   ],
   "source": [
    "print(f\"Listening ports for {binaryedge_host.ip} according to the various data sources:\")\n",
    "print(f\"\\tBinaryEdge: {binaryedge_host.ports}\")\n",
    "print(f\"\\tCensys: {censys_host.ports}\")\n",
    "print(f\"\\tShodan: {shodan_host.ports}\")\n",
    "\n",
    "print(f\"\\n\\nHTTP Headers and TLS certificate common names available per service and data source:\")\n",
    "print(\"\\tBinaryEdge:\")\n",
    "for service in binaryedge_host.services:\n",
    "    if service.http:\n",
    "        print(f\"\\tPort {service.port} HTTP headers: {service.http.headers}\")\n",
    "    if service.tls:\n",
    "        print(f\"\\tPort {service.port} TLS certificate common name: {service.tls.certificate.subject.common_name}\")\n",
    "\n",
    "print(\"\\n\\tCensys:\")\n",
    "for service in censys_host.services:\n",
    "    if service.http:\n",
    "        print(f\"\\tPort {service.port} HTTP headers: {service.http.headers}\")\n",
    "    if service.tls:\n",
    "        print(f\"\\tPort {service.port} TLS certificate common name: {service.tls.certificate.subject.common_name}\")\n",
    "\n",
    "print(\"\\n\\tShodan:\")\n",
    "for service in shodan_host.services:\n",
    "    if service.http:\n",
    "        print(f\"\\tPort {service.port} HTTP headers: {service.http.headers}\")\n",
    "    if service.tls:\n",
    "        print(f\"\\tPort {service.port} TLS certificate common name: {service.tls.certificate.subject.common_name}\")"
   ],
   "metadata": {
    "collapsed": false,
    "pycharm": {
     "name": "#%%\n"
    }
   }
  },
  {
   "cell_type": "markdown",
   "source": [
    "Additionally to the raw data obtained, goal of this model is to add common hash types wherever raw data is available.\n",
    "This is not implemented for every ssh key type for the Censys part, tough.\n",
    "\n",
    "The following snippet shows different hash values for a favicon available in the BinaryEdge raw data. The given\n",
    "`shodan_murmur` hash is related to the method Shodan uses for hashing favicons. Instead of the binary data, the hash is\n",
    " calculated on the base64 encoded data."
   ],
   "metadata": {
    "collapsed": false,
    "pycharm": {
     "name": "#%% md\n"
    }
   }
  },
  {
   "cell_type": "code",
   "execution_count": 7,
   "outputs": [
    {
     "name": "stdout",
     "output_type": "stream",
     "text": [
      "Favicon hashes based on BinaryEdge raw data:\n",
      "HTTP on port 443\n",
      "\tMD5: 7f969f62ee272a3be19966806fff4ad5\n",
      "\tSHA1: 07ed688be6d6288a669778f65f7eccdd96770925\n",
      "\tSHA256: 2ee43237d196100210f1786e7b73b57cd140f6013c072c70dbdffd9e9bc695f8\n",
      "\tMurmur: -640077903\n",
      "\tMurmur: -456454785\n",
      "\n",
      "HTTP on port 80\n",
      "\tMD5: 7f969f62ee272a3be19966806fff4ad5\n",
      "\tSHA1: 07ed688be6d6288a669778f65f7eccdd96770925\n",
      "\tSHA256: 2ee43237d196100210f1786e7b73b57cd140f6013c072c70dbdffd9e9bc695f8\n",
      "\tMurmur: -640077903\n",
      "\tMurmur: -456454785\n",
      "\n"
     ]
    }
   ],
   "source": [
    "print(\"Favicon hashes based on BinaryEdge raw data:\")\n",
    "for service in binaryedge_host.services:\n",
    "    if service.http and service.http.content.favicon:\n",
    "        print(f\"HTTP on port {service.port}\")\n",
    "        print(f\"\\tMD5: {service.http.content.favicon.md5}\")\n",
    "        print(f\"\\tSHA1: {service.http.content.favicon.sha1}\")\n",
    "        print(f\"\\tSHA256: {service.http.content.favicon.sha256}\")\n",
    "        print(f\"\\tMurmur: {service.http.content.favicon.murmur}\")\n",
    "        print(f\"\\tMurmur: {service.http.content.favicon.shodan_murmur}\\n\")"
   ],
   "metadata": {
    "collapsed": false,
    "pycharm": {
     "name": "#%%\n"
    }
   }
  },
  {
   "cell_type": "markdown",
   "source": [
    "Additional hashes might help to track hosts across other services. For example, the SHA256 hash of the favicon can be\n",
    "used to search for websites on [URLScan.io](https://urlscan.io).\n",
    "\n",
    "In case you want to dump the host data into elasticsearch or similar, you might want to avoid arrays of objects. In this\n",
    "case you can export a JSON object of the data which uses the listening ports as keys. The following snippet shows an\n",
    "example on how to do that. In this model, this is called \"flattened json\"."
   ],
   "metadata": {
    "collapsed": false,
    "pycharm": {
     "name": "#%% md\n"
    }
   }
  },
  {
   "cell_type": "code",
   "execution_count": 5,
   "outputs": [
    {
     "name": "stdout",
     "output_type": "stream",
     "text": [
      "Dumping Shodan host object to JSON:\n",
      "{\n",
      "  \"443.port\": 443,\n",
      "  \"443.banner\": \"HTTP/1.1 301 Moved Permanently\\r\\nContent-Length: 0\\r\\nLocation: https://github.com/\\r\\n\\r\\n\",\n",
      "  \"443.md5\": \"d402a6212741f3690b4fa1e46d9bd8b6\",\n",
      "  \"443.sha1\": \"a24eb4ba0332776d38050a7b41d0366742dbf262\",\n",
      "  \"443.sha256\": \"5fbe0315395986d131e4948888987319e88e3e1da6c5460e8a0bf8b7a1e639f0\",\n",
      "  \"443.murmur\": \"-1655207803\",\n",
      "  \"443.first_seen\": \"2021-08-27T13:51:30.841319\",\n",
      "  \"443.last_seen\": \"2021-08-27T13:51:30.841321\",\n",
      "  \"443.timestamp\": \"2021-08-16T20:42:40.325940\",\n",
      "  \"443.http.headers.Content-Length\": \"0\",\n",
      "  \"443.http.headers.Location\": \"https://github.com/\",\n",
      "  \"443.http.content.raw\": \"\",\n",
      "  \"443.http.content.length\": 0,\n",
      "  \"443.http.content.md5\": \"d41d8cd98f00b204e9800998ecf8427e\",\n",
      "  \"443.http.content.sha1\": \"da39a3ee5e6b4b0d3255bfef95601890afd80709\",\n",
      "  \"443.http.content.sha256\": \"e3b0c44298fc1c149afbf4c8996fb92427ae41e4649b934ca495991b7852b855\",\n",
      "  \"443.http.content.murmur\": \"0\",\n",
      "  \"443.tls.certificate.issuer.dn\": \"C=US, O=DigiCert, Inc., CN=DigiCert High Assurance TLS Hybrid ECC SHA256 2020 CA1\",\n",
      "  \"443.tls.certificate.issuer.country\": \"US\",\n",
      "  \"443.tls.certificate.issuer.organization\": \"DigiCert, Inc.\",\n",
      "  \"443.tls.certificate.issuer.common_name\": \"DigiCert High Assurance TLS Hybrid ECC SHA256 2020 CA1\",\n",
      "  \"443.tls.certificate.subject.dn\": \"C=US, ST=California, L=San Francisco, O=GitHub, Inc., CN=github.com\",\n",
      "  \"443.tls.certificate.subject.country\": \"US\",\n",
      "  \"443.tls.certificate.subject.state\": \"California\",\n",
      "  \"443.tls.certificate.subject.locality\": \"San Francisco\",\n",
      "  \"443.tls.certificate.subject.organization\": \"GitHub, Inc.\",\n",
      "  \"443.tls.certificate.subject.common_name\": \"github.com\",\n",
      "  \"443.tls.certificate.issued\": \"2021-03-25T00:00:00\",\n",
      "  \"443.tls.certificate.expires\": \"2022-03-30T23:59:59\",\n",
      "  \"443.tls.certificate.expired\": false,\n",
      "  \"443.tls.certificate.alternative_names\": [\n",
      "    \"www.github.com\",\n",
      "    \"github.com\"\n",
      "  ],\n",
      "  \"443.tls.certificate.pem\": \"-----BEGIN CERTIFICATE-----\\nMIIFBjCCBK2gAwIBAgIQDovzdw2S0Zbwu2H5PEFmvjAKBggqhkjOPQQDAjBnMQsw\\nCQYDVQQGEwJVUzEXMBUGA1UEChMORGlnaUNlcnQsIEluYy4xPzA9BgNVBAMTNkRp\\nZ2lDZXJ0IEhpZ2ggQXNzdXJhbmNlIFRMUyBIeWJyaWQgRUNDIFNIQTI1NiAyMDIw\\nIENBMTAeFw0yMTAzMjUwMDAwMDBaFw0yMjAzMzAyMzU5NTlaMGYxCzAJBgNVBAYT\\nAlVTMRMwEQYDVQQIEwpDYWxpZm9ybmlhMRYwFAYDVQQHEw1TYW4gRnJhbmNpc2Nv\\nMRUwEwYDVQQKEwxHaXRIdWIsIEluYy4xEzARBgNVBAMTCmdpdGh1Yi5jb20wWTAT\\nBgcqhkjOPQIBBggqhkjOPQMBBwNCAASt9vd1sdNJVApdEHG93CUGSyIcoiNOn6H+\\nudCMvTm8DCPHz5GmkFrYRasDE77BI3q5xMidR/aW4Ll2a1A2ZvcNo4IDOjCCAzYw\\nHwYDVR0jBBgwFoAUUGGmoNI1xBEqII0fD6xC8M0pz0swHQYDVR0OBBYEFCexfp+7\\nJplQ2PPDU1v+MRawux5yMCUGA1UdEQQeMByCCmdpdGh1Yi5jb22CDnd3dy5naXRo\\ndWIuY29tMA4GA1UdDwEB/wQEAwIHgDAdBgNVHSUEFjAUBggrBgEFBQcDAQYIKwYB\\nBQUHAwIwgbEGA1UdHwSBqTCBpjBRoE+gTYZLaHR0cDovL2NybDMuZGlnaWNlcnQu\\nY29tL0RpZ2lDZXJ0SGlnaEFzc3VyYW5jZVRMU0h5YnJpZEVDQ1NIQTI1NjIwMjBD\\nQTEuY3JsMFGgT6BNhktodHRwOi8vY3JsNC5kaWdpY2VydC5jb20vRGlnaUNlcnRI\\naWdoQXNzdXJhbmNlVExTSHlicmlkRUNDU0hBMjU2MjAyMENBMS5jcmwwPgYDVR0g\\nBDcwNTAzBgZngQwBAgIwKTAnBggrBgEFBQcCARYbaHR0cDovL3d3dy5kaWdpY2Vy\\ndC5jb20vQ1BTMIGSBggrBgEFBQcBAQSBhTCBgjAkBggrBgEFBQcwAYYYaHR0cDov\\nL29jc3AuZGlnaWNlcnQuY29tMFoGCCsGAQUFBzAChk5odHRwOi8vY2FjZXJ0cy5k\\naWdpY2VydC5jb20vRGlnaUNlcnRIaWdoQXNzdXJhbmNlVExTSHlicmlkRUNDU0hB\\nMjU2MjAyMENBMS5jcnQwDAYDVR0TAQH/BAIwADCCAQUGCisGAQQB1nkCBAIEgfYE\\ngfMA8QB2ACl5vvCeOTkh8FZzn2Old+W+V32cYAr4+U1dJlwlXceEAAABeGq/vRoA\\nAAQDAEcwRQIhAJ7miER//DRFnDJNn6uUhgau3WMt4vVfY5dGigulOdjXAiBIVCfR\\nxjK1v4F31+sVaKzyyO7JAa0fzDQM7skQckSYWQB3ACJFRQdZVSRWlj+hL/H3bYbg\\nIyZjrcBLf13Gg1xu4g8CAAABeGq/vTkAAAQDAEgwRgIhAJgAEkoJQRivBlwo7x67\\n3oVsf1ip096WshZqmRCuL/JpAiEA3cX4rb3waLDLq4C48NSoUmcw56PwO/m2uwnQ\\nprb+yh0wCgYIKoZIzj0EAwIDRwAwRAIgK+Kv7G+/KkWkNZg3PcQFp866Z7G6soxo\\na4etSZ+SRlYCIBSiXS20Wc+yjD111nPzvQUCfsP4+DKZ3K+2GKsERD6d\\n-----END CERTIFICATE-----\\n\",\n",
      "  \"443.tls.certificate.md5\": \"a07ee2076a6e392e1e96481e99ba094b\",\n",
      "  \"443.tls.certificate.sha1\": \"8463b3a92912ccfd1d314705989bec139937d0d7\",\n",
      "  \"443.tls.certificate.sha256\": \"0ae384bfd4dde9d13e50c5857c05a442c93f8e01445ee4b34540d22bd1e37f1b\",\n",
      "  \"443.source\": \"shodan\",\n",
      "  \"80.port\": 80,\n",
      "  \"80.banner\": \"HTTP/1.1 301 Moved Permanently\\r\\nContent-Length: 0\\r\\nLocation: https://140.82.121.4/\\r\\n\\r\\n\",\n",
      "  \"80.md5\": \"86c9c13165fff2c41db667dd1f6500db\",\n",
      "  \"80.sha1\": \"8ecee0314c63c092d449b0d37d00f0ff62448dd1\",\n",
      "  \"80.sha256\": \"715fd6cec44f12bb5e59f57bf9a1691708a5a2d2ef253399358ac3ff88f47781\",\n",
      "  \"80.murmur\": \"1256792822\",\n",
      "  \"80.first_seen\": \"2021-08-27T13:51:30.841319\",\n",
      "  \"80.last_seen\": \"2021-08-27T13:51:30.841321\",\n",
      "  \"80.timestamp\": \"2021-08-16T20:42:38.012570\",\n",
      "  \"80.http.headers.Content-Length\": \"0\",\n",
      "  \"80.http.headers.Location\": \"https://140.82.121.4/\",\n",
      "  \"80.http.content.raw\": \"\",\n",
      "  \"80.http.content.length\": 0,\n",
      "  \"80.http.content.md5\": \"d41d8cd98f00b204e9800998ecf8427e\",\n",
      "  \"80.http.content.sha1\": \"da39a3ee5e6b4b0d3255bfef95601890afd80709\",\n",
      "  \"80.http.content.sha256\": \"e3b0c44298fc1c149afbf4c8996fb92427ae41e4649b934ca495991b7852b855\",\n",
      "  \"80.http.content.murmur\": \"0\",\n",
      "  \"80.source\": \"shodan\",\n",
      "  \"9418.port\": 9418,\n",
      "  \"9418.banner\": \"0020ERR \\n  Repository not found.\",\n",
      "  \"9418.md5\": \"fc79d10176a28462bc071909fb99d59e\",\n",
      "  \"9418.sha1\": \"0df752dd6b3d3a461f30691ff89ee67ef3dd21b1\",\n",
      "  \"9418.sha256\": \"5f355dafa7999d06265bb17e949b76eab283e9966ef8e27908c4e1058a891121\",\n",
      "  \"9418.murmur\": \"-1636861384\",\n",
      "  \"9418.first_seen\": \"2021-08-27T13:51:30.841319\",\n",
      "  \"9418.last_seen\": \"2021-08-27T13:51:30.841321\",\n",
      "  \"9418.timestamp\": \"2021-08-12T02:10:13.136596\",\n",
      "  \"9418.source\": \"shodan\",\n",
      "  \"22.port\": 22,\n",
      "  \"22.banner\": \"SSH-2.0-babeld-968490c5\\nKey type: ssh-rsa\\nKey: AAAAB3NzaC1yc2EAAAABIwAAAQEAq2A7hRGmdnm9tUDbO9IDSwBK6TbQa+PXYPCPy6rbTrTtw7PH\\nkccKrpp0yVhp5HdEIcKr6pLlVDBfOLX9QUsyCOV0wzfjIJNlGEYsdlLJizHhbn2mUjvSAHQqZETY\\nP81eFzLQNnPHt4EVVUh7VfDESU84KezmD5QlWpXLmvU31/yMf+Se8xhHTvKSCZIFImWwoG6mbUoW\\nf9nzpIoaSjB+weqqUUmpaaasXVal72J+UX2B+2RPW3RcT0eOzQgqlJL3RKrTJvdsjE3JEAvGq3lG\\nHSZXy28G3skua2SmVi/w4yCE6gbODqnTWlg7+wC604ydGXA8VJiS5ap43JXiUFFAaQ==\\nFingerprint: 16:27:ac:a5:76:28:2d:36:63:1b:56:4d:eb:df:a6:48\\n\\nKex Algorithms:\\n\\tcurve25519-sha256\\n\\tcurve25519-sha256@libssh.org\\n\\tecdh-sha2-nistp256\\n\\tecdh-sha2-nistp384\\n\\tecdh-sha2-nistp521\\n\\tdiffie-hellman-group-exchange-sha256\\n\\nServer Host Key Algorithms:\\n\\trsa-sha2-512\\n\\trsa-sha2-256\\n\\tssh-rsa\\n\\tssh-dss\\n\\nEncryption Algorithms:\\n\\tchacha20-poly1305@openssh.com\\n\\taes256-gcm@openssh.com\\n\\taes128-gcm@openssh.com\\n\\taes256-ctr\\n\\taes192-ctr\\n\\taes128-ctr\\n\\taes256-cbc\\n\\taes192-cbc\\n\\taes128-cbc\\n\\nMAC Algorithms:\\n\\thmac-sha2-512-etm@openssh.com\\n\\thmac-sha2-256-etm@openssh.com\\n\\thmac-sha2-512\\n\\thmac-sha2-256\\n\\thmac-sha1-etm@openssh.com\\n\\thmac-sha1\\n\\nCompression Algorithms:\\n\\tnone\\n\\n\",\n",
      "  \"22.md5\": \"d652c84a47553c66047cf67e51f1345a\",\n",
      "  \"22.sha1\": \"679cc04ce70413f639351328bb2f0a70545d0cb6\",\n",
      "  \"22.sha256\": \"2431ffe5d8acbb77b6db91ee84f75baa0422d56947e0b85331dde2560e5454d5\",\n",
      "  \"22.murmur\": \"1023136053\",\n",
      "  \"22.first_seen\": \"2021-08-27T13:51:30.841319\",\n",
      "  \"22.last_seen\": \"2021-08-27T13:51:30.841321\",\n",
      "  \"22.timestamp\": \"2021-08-03T21:10:29.568093\",\n",
      "  \"22.ssh.algorithms.encryption\": [\n",
      "    \"chacha20-poly1305@openssh.com\",\n",
      "    \"aes256-gcm@openssh.com\",\n",
      "    \"aes128-gcm@openssh.com\",\n",
      "    \"aes256-ctr\",\n",
      "    \"aes192-ctr\",\n",
      "    \"aes128-ctr\",\n",
      "    \"aes256-cbc\",\n",
      "    \"aes192-cbc\",\n",
      "    \"aes128-cbc\"\n",
      "  ],\n",
      "  \"22.ssh.algorithms.key_exchange\": [\n",
      "    \"curve25519-sha256\",\n",
      "    \"curve25519-sha256@libssh.org\",\n",
      "    \"ecdh-sha2-nistp256\",\n",
      "    \"ecdh-sha2-nistp384\",\n",
      "    \"ecdh-sha2-nistp521\",\n",
      "    \"diffie-hellman-group-exchange-sha256\"\n",
      "  ],\n",
      "  \"22.ssh.algorithms.mac\": [\n",
      "    \"hmac-sha2-512-etm@openssh.com\",\n",
      "    \"hmac-sha2-256-etm@openssh.com\",\n",
      "    \"hmac-sha2-512\",\n",
      "    \"hmac-sha2-256\",\n",
      "    \"hmac-sha1-etm@openssh.com\",\n",
      "    \"hmac-sha1\"\n",
      "  ],\n",
      "  \"22.ssh.algorithms.key_algorithms\": [\n",
      "    \"rsa-sha2-512\",\n",
      "    \"rsa-sha2-256\",\n",
      "    \"ssh-rsa\",\n",
      "    \"ssh-dss\"\n",
      "  ],\n",
      "  \"22.ssh.algorithms.compression\": [\n",
      "    \"none\"\n",
      "  ],\n",
      "  \"22.ssh.key.raw\": \"AAAAB3NzaC1yc2EAAAABIwAAAQEAq2A7hRGmdnm9tUDbO9IDSwBK6TbQa+PXYPCPy6rbTrTtw7PH\\nkccKrpp0yVhp5HdEIcKr6pLlVDBfOLX9QUsyCOV0wzfjIJNlGEYsdlLJizHhbn2mUjvSAHQqZETY\\nP81eFzLQNnPHt4EVVUh7VfDESU84KezmD5QlWpXLmvU31/yMf+Se8xhHTvKSCZIFImWwoG6mbUoW\\nf9nzpIoaSjB+weqqUUmpaaasXVal72J+UX2B+2RPW3RcT0eOzQgqlJL3RKrTJvdsjE3JEAvGq3lG\\nHSZXy28G3skua2SmVi/w4yCE6gbODqnTWlg7+wC604ydGXA8VJiS5ap43JXiUFFAaQ==\\n\",\n",
      "  \"22.ssh.key.type\": \"ssh-rsa\",\n",
      "  \"22.ssh.key.md5\": \"1627aca576282d36631b564debdfa648\",\n",
      "  \"22.ssh.key.sha1\": \"bf6b6825d2977c511a475bbefb88aad54a92ac73\",\n",
      "  \"22.ssh.key.sha256\": \"9d385b83a9175292561a5ec4d4818e0aca51a264f17420112ef88ac3a139498f\",\n",
      "  \"22.ssh.key.murmur\": \"-388505952\",\n",
      "  \"22.source\": \"shodan\",\n",
      "  \"autonomous_system.number\": 36459,\n",
      "  \"autonomous_system.name\": \"GitHub, Inc.\",\n",
      "  \"autonomous_system.country\": \"DE\",\n",
      "  \"autonomous_system.source\": \"shodan\",\n",
      "  \"ip\": \"140.82.121.4\",\n",
      "  \"domains\": [\n",
      "    \"github.com\",\n",
      "    \"lb-140-82-121-4-fra.github.com\",\n",
      "    \"www.github.com\"\n",
      "  ]\n",
      "}\n"
     ]
    }
   ],
   "source": [
    "print(f\"Dumping Shodan host object to JSON:\")\n",
    "print(shodan_host.flattened_json())"
   ],
   "metadata": {
    "collapsed": false,
    "pycharm": {
     "name": "#%%\n"
    }
   }
  },
  {
   "cell_type": "markdown",
   "metadata": {
    "pycharm": {
     "name": "#%% md\n"
    }
   },
   "source": [
    "# Interactive Demo\n",
    "This section aims to be an interactive demo where you grab live results from scanning services and directly convert the\n",
    "results into the common model in order to play around with the data yourself.\n",
    "\n",
    "**Note:** This is still work in progress and does not work right now.\n",
    "\n",
    "## Initialize API clients\n",
    "The following cells set-up the api clients in order to grab live data from BinaryEdge, Censys and Shodan."
   ]
  },
  {
   "cell_type": "code",
   "execution_count": null,
   "metadata": {
    "pycharm": {
     "name": "#%%\n"
    }
   },
   "outputs": [],
   "source": [
    "shodan_key = input(\"Shodan API-Key (empty to skip downloading data from Shodan)\")\n",
    "be_key = input(\"BinaryEdge API-Key\")\n",
    "censys_uid = input(\"Censys UID\")\n",
    "censys_secret = input(\"Censys Secret\")\n",
    "clients = {}\n",
    "if shodan_key and len(shodan_key) > 0:\n",
    "    import shodan\n",
    "    clients[\"shodan\"] = shodan.Shodan(shodan_key)\n",
    "\n",
    "if be_key and len(be_key) > 0:\n",
    "    import pybinaryedge\n",
    "    clients[\"binaryedge\"] = pybinaryedge.BinaryEdge(be_key)\n",
    "\n",
    "if censys_uid and censys_secret and len(censys_uid) > 0 and len(censys_secret) > 0:\n",
    "    from censys.search.v2 import CensysHosts\n",
    "    clients[\"censys\"] = CensysHosts(censys_uid, censys_secret)\n",
    "\n",
    "print(f\"Initialized {len(clients)} API(s).\")"
   ]
  }
 ],
 "metadata": {
  "kernelspec": {
   "display_name": "Python 3 (ipykernel)",
   "language": "python",
   "name": "python3"
  },
  "language_info": {
   "codemirror_mode": {
    "name": "ipython",
    "version": 3
   },
   "file_extension": ".py",
   "mimetype": "text/x-python",
   "name": "python",
   "nbconvert_exporter": "python",
   "pygments_lexer": "ipython3",
   "version": "3.9.5"
  }
 },
 "nbformat": 4,
 "nbformat_minor": 1
}